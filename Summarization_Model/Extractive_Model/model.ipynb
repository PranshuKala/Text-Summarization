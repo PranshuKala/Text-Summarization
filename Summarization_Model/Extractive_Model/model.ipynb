{
 "cells": [
  {
   "cell_type": "code",
   "execution_count": 1,
   "metadata": {},
   "outputs": [],
   "source": [
    "import pandas as pd\n",
    "\n",
    "from sklearn.model_selection import train_test_split"
   ]
  },
  {
   "cell_type": "code",
   "execution_count": 17,
   "metadata": {},
   "outputs": [],
   "source": [
    "df = pd.read_csv('data.csv')"
   ]
  },
  {
   "cell_type": "code",
   "execution_count": 5,
   "metadata": {},
   "outputs": [],
   "source": [
    "import nltk"
   ]
  },
  {
   "cell_type": "code",
   "execution_count": 6,
   "metadata": {},
   "outputs": [
    {
     "name": "stderr",
     "output_type": "stream",
     "text": [
      "[nltk_data] Downloading package punkt to\n",
      "[nltk_data]     C:\\Users\\Perplex420\\AppData\\Roaming\\nltk_data...\n",
      "[nltk_data]   Package punkt is already up-to-date!\n",
      "[nltk_data] Downloading package stopwords to\n",
      "[nltk_data]     C:\\Users\\Perplex420\\AppData\\Roaming\\nltk_data...\n",
      "[nltk_data]   Package stopwords is already up-to-date!\n"
     ]
    },
    {
     "data": {
      "text/plain": [
       "True"
      ]
     },
     "execution_count": 6,
     "metadata": {},
     "output_type": "execute_result"
    }
   ],
   "source": [
    "nltk.download('punkt')\n",
    "nltk.download('stopwords')"
   ]
  },
  {
   "cell_type": "code",
   "execution_count": 18,
   "metadata": {},
   "outputs": [
    {
     "data": {
      "text/html": [
       "<div>\n",
       "<style scoped>\n",
       "    .dataframe tbody tr th:only-of-type {\n",
       "        vertical-align: middle;\n",
       "    }\n",
       "\n",
       "    .dataframe tbody tr th {\n",
       "        vertical-align: top;\n",
       "    }\n",
       "\n",
       "    .dataframe thead th {\n",
       "        text-align: right;\n",
       "    }\n",
       "</style>\n",
       "<table border=\"1\" class=\"dataframe\">\n",
       "  <thead>\n",
       "    <tr style=\"text-align: right;\">\n",
       "      <th></th>\n",
       "      <th>text</th>\n",
       "      <th>summary</th>\n",
       "    </tr>\n",
       "  </thead>\n",
       "  <tbody>\n",
       "    <tr>\n",
       "      <th>0</th>\n",
       "      <td>daman diu administration wednesday withdrew ci...</td>\n",
       "      <td>administration union territory daman diu revok...</td>\n",
       "    </tr>\n",
       "    <tr>\n",
       "      <th>1</th>\n",
       "      <td>special numbers tv?appearances, bollywood acto...</td>\n",
       "      <td>malaika arora slammed instagram user trolled d...</td>\n",
       "    </tr>\n",
       "    <tr>\n",
       "      <th>2</th>\n",
       "      <td>indira gandhi institute medical sciences patna...</td>\n",
       "      <td>indira gandhi institute medical sciences patna...</td>\n",
       "    </tr>\n",
       "    <tr>\n",
       "      <th>3</th>\n",
       "      <td>lashkar-e-taiba's kashmir commander abu dujana...</td>\n",
       "      <td>lashkar-e-taiba's kashmir commander abu dujana...</td>\n",
       "    </tr>\n",
       "    <tr>\n",
       "      <th>4</th>\n",
       "      <td>hotels mumbai indian cities train staff spot s...</td>\n",
       "      <td>hotels maharashtra train staff spot signs sex ...</td>\n",
       "    </tr>\n",
       "    <tr>\n",
       "      <th>...</th>\n",
       "      <td>...</td>\n",
       "      <td>...</td>\n",
       "    </tr>\n",
       "    <tr>\n",
       "      <th>4391</th>\n",
       "      <td>mumbai, feb fruit juice concentrate maker rasn...</td>\n",
       "      <td>fruit juice concentrate maker rasna eyeing rev...</td>\n",
       "    </tr>\n",
       "    <tr>\n",
       "      <th>4392</th>\n",
       "      <td>former cricketer sachin tendulkar spotted rajy...</td>\n",
       "      <td>former indian cricketer sachin tendulkar atten...</td>\n",
       "    </tr>\n",
       "    <tr>\n",
       "      <th>4393</th>\n",
       "      <td>aamir khan, whose last film dangal told story ...</td>\n",
       "      <td>aamir khan, talking reality shows television f...</td>\n",
       "    </tr>\n",
       "    <tr>\n",
       "      <th>4394</th>\n",
       "      <td>maharahstra power minister chandrashekhar bawa...</td>\n",
       "      <td>maharashtra government initiated inquiry -year...</td>\n",
       "    </tr>\n",
       "    <tr>\n",
       "      <th>4395</th>\n",
       "      <td>half languages spoken india's . billion people...</td>\n",
       "      <td>least languages half languages spoken india's ...</td>\n",
       "    </tr>\n",
       "  </tbody>\n",
       "</table>\n",
       "<p>4396 rows × 2 columns</p>\n",
       "</div>"
      ],
      "text/plain": [
       "                                                   text  \\\n",
       "0     daman diu administration wednesday withdrew ci...   \n",
       "1     special numbers tv?appearances, bollywood acto...   \n",
       "2     indira gandhi institute medical sciences patna...   \n",
       "3     lashkar-e-taiba's kashmir commander abu dujana...   \n",
       "4     hotels mumbai indian cities train staff spot s...   \n",
       "...                                                 ...   \n",
       "4391  mumbai, feb fruit juice concentrate maker rasn...   \n",
       "4392  former cricketer sachin tendulkar spotted rajy...   \n",
       "4393  aamir khan, whose last film dangal told story ...   \n",
       "4394  maharahstra power minister chandrashekhar bawa...   \n",
       "4395  half languages spoken india's . billion people...   \n",
       "\n",
       "                                                summary  \n",
       "0     administration union territory daman diu revok...  \n",
       "1     malaika arora slammed instagram user trolled d...  \n",
       "2     indira gandhi institute medical sciences patna...  \n",
       "3     lashkar-e-taiba's kashmir commander abu dujana...  \n",
       "4     hotels maharashtra train staff spot signs sex ...  \n",
       "...                                                 ...  \n",
       "4391  fruit juice concentrate maker rasna eyeing rev...  \n",
       "4392  former indian cricketer sachin tendulkar atten...  \n",
       "4393  aamir khan, talking reality shows television f...  \n",
       "4394  maharashtra government initiated inquiry -year...  \n",
       "4395  least languages half languages spoken india's ...  \n",
       "\n",
       "[4396 rows x 2 columns]"
      ]
     },
     "execution_count": 18,
     "metadata": {},
     "output_type": "execute_result"
    }
   ],
   "source": [
    "df"
   ]
  },
  {
   "cell_type": "code",
   "execution_count": 19,
   "metadata": {},
   "outputs": [],
   "source": [
    "import networkx as nx\n",
    "\n",
    "from sklearn.metrics.pairwise import cosine_similarity\n",
    "\n",
    "from sklearn.feature_extraction.text import TfidfVectorizer"
   ]
  },
  {
   "cell_type": "code",
   "execution_count": 20,
   "metadata": {},
   "outputs": [],
   "source": [
    "def construct_similarity_matrix(sentences, tfidf_vectorizer):\n",
    "    tfidf_matrix = tfidf_vectorizer.fit_transform(sentences)\n",
    "    similarity_matrix = cosine_similarity(tfidf_matrix)\n",
    "    return similarity_matrix\n",
    "\n",
    "def rank_sentences(similarity_matrix):\n",
    "    nx_graph = nx.from_numpy_array(similarity_matrix)\n",
    "    scores = nx.pagerank(nx_graph)\n",
    "    ranked_sentences = sorted(((scores[i], s) for i, s in enumerate(sentences)), reverse=True)\n",
    "    return ranked_sentences"
   ]
  },
  {
   "cell_type": "code",
   "execution_count": 31,
   "metadata": {},
   "outputs": [],
   "source": [
    "def process(text):\n",
    "    sentences = sent_tokenize(text)\n",
    "    preprocessed_sentences = []\n",
    "    for sentence in sentences:\n",
    "        words = word_tokenize(sentence)\n",
    "        words = [word.lower() for word in words if word.isalpha() ]\n",
    "        preprocessed_sentences.append(' '.join(words))\n",
    "    return preprocessed_sentences"
   ]
  },
  {
   "cell_type": "code",
   "execution_count": 32,
   "metadata": {},
   "outputs": [],
   "source": [
    "sentences = df.iloc[0]['text']\n",
    "sentences = process(sentences)\n",
    "tfidf_vectorizer = TfidfVectorizer()\n",
    "similarity_matrix = construct_similarity_matrix(sentences, tfidf_vectorizer)\n",
    "ranked_sentences = rank_sentences(similarity_matrix)"
   ]
  },
  {
   "cell_type": "code",
   "execution_count": 33,
   "metadata": {},
   "outputs": [
    {
     "name": "stdout",
     "output_type": "stream",
     "text": [
      "['daman diu administration wednesday withdrew circular asked women staff tie rakhis male colleagues order triggered backlash employees ripped apart social union territory s administration forced retreat within hours issuing circular made compulsory staff celebrate rakshabandhan workplace', 'it decided celebrate festival rakshabandhan august', 'connection departments shall remain open celebrate festival collectively suitable time wherein lady staff shall tie rakhis colleagues', 'order issued august gurpreet singh deputy secretary ensure one skipped office attendance report sent government next two notifications', 'one mandating celebration rakshabandhan withdrawing mandate', 'issued daman diu administration day apart', 'circular withdrawn order issued late evening ut s department personnel administrative reforms', 'the circular ridiculous', 'sensitivities involved', 'government dictate tie rakhi to', 'maintain professionalism workplace', 'official told hindustan times earlier day', 'refused notice issued daman diu administrator former gujarat home minister praful kodabhai patel s direction sources celebration bond brothers sisters one several hindu festivities rituals longer confined private family affairs become tools push politic al year bjp stormed power centre rashtriya swayamsevak sangh chief mohan bhagwat said festival national significance', 'celebrated widely to protect hindu culture live values enshrined it', 'rss ideological parent ruling year women ministers modi government went border areas celebrate festival soldiers', 'year before cabinet ministers asked go constituencies festival']\n"
     ]
    }
   ],
   "source": [
    "print(sentences)"
   ]
  },
  {
   "cell_type": "code",
   "execution_count": 35,
   "metadata": {},
   "outputs": [
    {
     "name": "stdout",
     "output_type": "stream",
     "text": [
      "daman diu administration wednesday withdrew circular asked women staff tie rakhis male colleagues order triggered backlash employees ripped apart social union territory s administration forced retreat within hours issuing circular made compulsory staff celebrate rakshabandhan workplace it decided celebrate festival rakshabandhan august\n"
     ]
    }
   ],
   "source": [
    "num_sentences = 2  # Number of sentences for summary\n",
    "summary = ' '.join([sentence for score, sentence in ranked_sentences[:num_sentences]])\n",
    "print(summary)"
   ]
  }
 ],
 "metadata": {
  "kernelspec": {
   "display_name": "Python 3",
   "language": "python",
   "name": "python3"
  },
  "language_info": {
   "codemirror_mode": {
    "name": "ipython",
    "version": 3
   },
   "file_extension": ".py",
   "mimetype": "text/x-python",
   "name": "python",
   "nbconvert_exporter": "python",
   "pygments_lexer": "ipython3",
   "version": "3.12.2"
  }
 },
 "nbformat": 4,
 "nbformat_minor": 2
}
