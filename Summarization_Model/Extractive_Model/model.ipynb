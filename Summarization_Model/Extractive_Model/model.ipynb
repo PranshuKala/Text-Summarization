{
 "cells": [
  {
   "cell_type": "code",
   "execution_count": 14,
   "metadata": {},
   "outputs": [],
   "source": [
    "import pandas as pd \n",
    "import numpy as np"
   ]
  },
  {
   "cell_type": "code",
   "execution_count": 15,
   "metadata": {},
   "outputs": [],
   "source": [
    "df = pd.read_csv('data.csv')"
   ]
  },
  {
   "cell_type": "code",
   "execution_count": 16,
   "metadata": {},
   "outputs": [
    {
     "data": {
      "text/html": [
       "<div>\n",
       "<style scoped>\n",
       "    .dataframe tbody tr th:only-of-type {\n",
       "        vertical-align: middle;\n",
       "    }\n",
       "\n",
       "    .dataframe tbody tr th {\n",
       "        vertical-align: top;\n",
       "    }\n",
       "\n",
       "    .dataframe thead th {\n",
       "        text-align: right;\n",
       "    }\n",
       "</style>\n",
       "<table border=\"1\" class=\"dataframe\">\n",
       "  <thead>\n",
       "    <tr style=\"text-align: right;\">\n",
       "      <th></th>\n",
       "      <th>text</th>\n",
       "      <th>summary</th>\n",
       "    </tr>\n",
       "  </thead>\n",
       "  <tbody>\n",
       "    <tr>\n",
       "      <th>0</th>\n",
       "      <td>daman diu administration wednesday withdrew ci...</td>\n",
       "      <td>administration union territory daman diu revok...</td>\n",
       "    </tr>\n",
       "    <tr>\n",
       "      <th>1</th>\n",
       "      <td>special numbers tv?appearances, bollywood acto...</td>\n",
       "      <td>malaika arora slammed instagram user trolled d...</td>\n",
       "    </tr>\n",
       "    <tr>\n",
       "      <th>2</th>\n",
       "      <td>indira gandhi institute medical sciences patna...</td>\n",
       "      <td>indira gandhi institute medical sciences patna...</td>\n",
       "    </tr>\n",
       "    <tr>\n",
       "      <th>3</th>\n",
       "      <td>lashkar-e-taiba's kashmir commander abu dujana...</td>\n",
       "      <td>lashkar-e-taiba's kashmir commander abu dujana...</td>\n",
       "    </tr>\n",
       "    <tr>\n",
       "      <th>4</th>\n",
       "      <td>hotels mumbai indian cities train staff spot s...</td>\n",
       "      <td>hotels maharashtra train staff spot signs sex ...</td>\n",
       "    </tr>\n",
       "    <tr>\n",
       "      <th>...</th>\n",
       "      <td>...</td>\n",
       "      <td>...</td>\n",
       "    </tr>\n",
       "    <tr>\n",
       "      <th>4391</th>\n",
       "      <td>mumbai, feb fruit juice concentrate maker rasn...</td>\n",
       "      <td>fruit juice concentrate maker rasna eyeing rev...</td>\n",
       "    </tr>\n",
       "    <tr>\n",
       "      <th>4392</th>\n",
       "      <td>former cricketer sachin tendulkar spotted rajy...</td>\n",
       "      <td>former indian cricketer sachin tendulkar atten...</td>\n",
       "    </tr>\n",
       "    <tr>\n",
       "      <th>4393</th>\n",
       "      <td>aamir khan, whose last film dangal told story ...</td>\n",
       "      <td>aamir khan, talking reality shows television f...</td>\n",
       "    </tr>\n",
       "    <tr>\n",
       "      <th>4394</th>\n",
       "      <td>maharahstra power minister chandrashekhar bawa...</td>\n",
       "      <td>maharashtra government initiated inquiry -year...</td>\n",
       "    </tr>\n",
       "    <tr>\n",
       "      <th>4395</th>\n",
       "      <td>half languages spoken india's . billion people...</td>\n",
       "      <td>least languages half languages spoken india's ...</td>\n",
       "    </tr>\n",
       "  </tbody>\n",
       "</table>\n",
       "<p>4396 rows × 2 columns</p>\n",
       "</div>"
      ],
      "text/plain": [
       "                                                   text  \\\n",
       "0     daman diu administration wednesday withdrew ci...   \n",
       "1     special numbers tv?appearances, bollywood acto...   \n",
       "2     indira gandhi institute medical sciences patna...   \n",
       "3     lashkar-e-taiba's kashmir commander abu dujana...   \n",
       "4     hotels mumbai indian cities train staff spot s...   \n",
       "...                                                 ...   \n",
       "4391  mumbai, feb fruit juice concentrate maker rasn...   \n",
       "4392  former cricketer sachin tendulkar spotted rajy...   \n",
       "4393  aamir khan, whose last film dangal told story ...   \n",
       "4394  maharahstra power minister chandrashekhar bawa...   \n",
       "4395  half languages spoken india's . billion people...   \n",
       "\n",
       "                                                summary  \n",
       "0     administration union territory daman diu revok...  \n",
       "1     malaika arora slammed instagram user trolled d...  \n",
       "2     indira gandhi institute medical sciences patna...  \n",
       "3     lashkar-e-taiba's kashmir commander abu dujana...  \n",
       "4     hotels maharashtra train staff spot signs sex ...  \n",
       "...                                                 ...  \n",
       "4391  fruit juice concentrate maker rasna eyeing rev...  \n",
       "4392  former indian cricketer sachin tendulkar atten...  \n",
       "4393  aamir khan, talking reality shows television f...  \n",
       "4394  maharashtra government initiated inquiry -year...  \n",
       "4395  least languages half languages spoken india's ...  \n",
       "\n",
       "[4396 rows x 2 columns]"
      ]
     },
     "execution_count": 16,
     "metadata": {},
     "output_type": "execute_result"
    }
   ],
   "source": [
    "df"
   ]
  },
  {
   "cell_type": "code",
   "execution_count": 17,
   "metadata": {},
   "outputs": [
    {
     "data": {
      "text/plain": [
       "'daman diu administration wednesday withdrew circular asked women staff tie rakhis male colleagues order triggered backlash employees ripped apart social media.the union territory?s administration forced retreat within hours issuing circular made compulsory staff celebrate rakshabandhan workplace.?it decided celebrate festival rakshabandhan august . connection, offices/ departments shall remain open celebrate festival collectively suitable time wherein lady staff shall tie rakhis colleagues,? order, issued august gurpreet singh, deputy secretary , said.to ensure one skipped office, attendance report sent government next evening.the two notifications ? one mandating celebration rakshabandhan withdrawing mandate ? issued daman diu administration day apart. circular withdrawn one-line order issued late evening ut?s department personnel administrative reforms.?the circular ridiculous. sensitivities involved. government dictate tie rakhi to? maintain professionalism workplace? official told hindustan times earlier day. refused identified.the notice issued daman diu administrator former gujarat home minister praful kodabhai patel?s direction, sources said.rakshabandhan, celebration bond brothers sisters, one several hindu festivities rituals longer confined private, family affairs become tools push politic al ideologies.in , year bjp stormed power centre, rashtriya swayamsevak sangh chief mohan bhagwat said festival ?national significance? celebrated widely ?to protect hindu culture live values enshrined it?. rss ideological parent ruling bjp.last year, women ministers modi government went border areas celebrate festival soldiers. year before, cabinet ministers asked go constituencies festival.'"
      ]
     },
     "execution_count": 17,
     "metadata": {},
     "output_type": "execute_result"
    }
   ],
   "source": [
    "example_sentence = df.iloc[0,0]\n",
    "example_sentence"
   ]
  },
  {
   "cell_type": "code",
   "execution_count": 18,
   "metadata": {},
   "outputs": [
    {
     "data": {
      "text/plain": [
       "35.57279344858963"
      ]
     },
     "execution_count": 18,
     "metadata": {},
     "output_type": "execute_result"
    }
   ],
   "source": [
    "# avg length of summary column\n",
    "\n",
    "length = df['summary'].apply(lambda x: len(x.split()))\n",
    "avg_length = np.mean(length)\n",
    "avg_length"
   ]
  },
  {
   "cell_type": "code",
   "execution_count": 19,
   "metadata": {},
   "outputs": [
    {
     "data": {
      "text/plain": [
       "201.287534121929"
      ]
     },
     "execution_count": 19,
     "metadata": {},
     "output_type": "execute_result"
    }
   ],
   "source": [
    "#avg length of text column\n",
    "\n",
    "length = df['text'].apply(lambda x: len(x.split()))\n",
    "avg_length = np.mean(length)\n",
    "avg_length\n",
    "\n",
    "# we find that summary column is approximately 20 % of the text column"
   ]
  },
  {
   "cell_type": "code",
   "execution_count": 20,
   "metadata": {},
   "outputs": [
    {
     "data": {
      "text/plain": [
       "'daman diu administration wednesday withdrew circular asked women staff tie rakhis male colleagues order triggered backlash employees ripped apart social media.the union territory?s administration forced retreat within hours issuing circular made compulsory staff celebrate rakshabandhan workplace.?it decided celebrate festival rakshabandhan august .\\nrefused identified.the notice issued daman diu administrator former gujarat home minister praful kodabhai patel?s direction, sources said.rakshabandhan, celebration bond brothers sisters, one several hindu festivities rituals longer confined private, family affairs become tools push politic al ideologies.in , year bjp stormed power centre, rashtriya swayamsevak sangh chief mohan bhagwat said festival ?national significance?'"
      ]
     },
     "execution_count": 20,
     "metadata": {},
     "output_type": "execute_result"
    }
   ],
   "source": [
    "# importing summa library for summarization\n",
    "# summa is based on textrank algorithm which is an extractive summarization technique\n",
    "# it calculates the importance of a sentence based on the importance of the words in the sentence\n",
    "\n",
    "\n",
    "from summa import summarizer\n",
    "\n",
    "# initializing the summarizer , with ratio = 0.2 , which means the summary will be 20% of the original text\n",
    "summary = summarizer.summarize(example_sentence, ratio=0.2 , language='english')\n",
    "\n",
    "summary\n",
    "\n"
   ]
  },
  {
   "cell_type": "code",
   "execution_count": 21,
   "metadata": {},
   "outputs": [
    {
     "data": {
      "text/html": [
       "<div>\n",
       "<style scoped>\n",
       "    .dataframe tbody tr th:only-of-type {\n",
       "        vertical-align: middle;\n",
       "    }\n",
       "\n",
       "    .dataframe tbody tr th {\n",
       "        vertical-align: top;\n",
       "    }\n",
       "\n",
       "    .dataframe thead th {\n",
       "        text-align: right;\n",
       "    }\n",
       "</style>\n",
       "<table border=\"1\" class=\"dataframe\">\n",
       "  <thead>\n",
       "    <tr style=\"text-align: right;\">\n",
       "      <th></th>\n",
       "      <th>text</th>\n",
       "      <th>summary</th>\n",
       "      <th>generated_summary</th>\n",
       "    </tr>\n",
       "  </thead>\n",
       "  <tbody>\n",
       "    <tr>\n",
       "      <th>0</th>\n",
       "      <td>daman diu administration wednesday withdrew ci...</td>\n",
       "      <td>administration union territory daman diu revok...</td>\n",
       "      <td>daman diu administration wednesday withdrew ci...</td>\n",
       "    </tr>\n",
       "    <tr>\n",
       "      <th>1</th>\n",
       "      <td>special numbers tv?appearances, bollywood acto...</td>\n",
       "      <td>malaika arora slammed instagram user trolled d...</td>\n",
       "      <td>special numbers tv?appearances, bollywood acto...</td>\n",
       "    </tr>\n",
       "    <tr>\n",
       "      <th>2</th>\n",
       "      <td>indira gandhi institute medical sciences patna...</td>\n",
       "      <td>indira gandhi institute medical sciences patna...</td>\n",
       "      <td>indira gandhi institute medical sciences patna...</td>\n",
       "    </tr>\n",
       "    <tr>\n",
       "      <th>3</th>\n",
       "      <td>lashkar-e-taiba's kashmir commander abu dujana...</td>\n",
       "      <td>lashkar-e-taiba's kashmir commander abu dujana...</td>\n",
       "      <td>dujana, managed give security forces slip seve...</td>\n",
       "    </tr>\n",
       "    <tr>\n",
       "      <th>4</th>\n",
       "      <td>hotels mumbai indian cities train staff spot s...</td>\n",
       "      <td>hotels maharashtra train staff spot signs sex ...</td>\n",
       "      <td>rising property prices, traditional red light ...</td>\n",
       "    </tr>\n",
       "    <tr>\n",
       "      <th>...</th>\n",
       "      <td>...</td>\n",
       "      <td>...</td>\n",
       "      <td>...</td>\n",
       "    </tr>\n",
       "    <tr>\n",
       "      <th>4391</th>\n",
       "      <td>mumbai, feb fruit juice concentrate maker rasn...</td>\n",
       "      <td>fruit juice concentrate maker rasna eyeing rev...</td>\n",
       "      <td>company invested rs crore far vitos plans expo...</td>\n",
       "    </tr>\n",
       "    <tr>\n",
       "      <th>4392</th>\n",
       "      <td>former cricketer sachin tendulkar spotted rajy...</td>\n",
       "      <td>former indian cricketer sachin tendulkar atten...</td>\n",
       "      <td></td>\n",
       "    </tr>\n",
       "    <tr>\n",
       "      <th>4393</th>\n",
       "      <td>aamir khan, whose last film dangal told story ...</td>\n",
       "      <td>aamir khan, talking reality shows television f...</td>\n",
       "      <td>aamir khan, whose last film dangal told story ...</td>\n",
       "    </tr>\n",
       "    <tr>\n",
       "      <th>4394</th>\n",
       "      <td>maharahstra power minister chandrashekhar bawa...</td>\n",
       "      <td>maharashtra government initiated inquiry -year...</td>\n",
       "      <td>bhosle received similar bills past bungalow re...</td>\n",
       "    </tr>\n",
       "    <tr>\n",
       "      <th>4395</th>\n",
       "      <td>half languages spoken india's . billion people...</td>\n",
       "      <td>least languages half languages spoken india's ...</td>\n",
       "      <td>india's people speak many different languages,...</td>\n",
       "    </tr>\n",
       "  </tbody>\n",
       "</table>\n",
       "<p>4396 rows × 3 columns</p>\n",
       "</div>"
      ],
      "text/plain": [
       "                                                   text  \\\n",
       "0     daman diu administration wednesday withdrew ci...   \n",
       "1     special numbers tv?appearances, bollywood acto...   \n",
       "2     indira gandhi institute medical sciences patna...   \n",
       "3     lashkar-e-taiba's kashmir commander abu dujana...   \n",
       "4     hotels mumbai indian cities train staff spot s...   \n",
       "...                                                 ...   \n",
       "4391  mumbai, feb fruit juice concentrate maker rasn...   \n",
       "4392  former cricketer sachin tendulkar spotted rajy...   \n",
       "4393  aamir khan, whose last film dangal told story ...   \n",
       "4394  maharahstra power minister chandrashekhar bawa...   \n",
       "4395  half languages spoken india's . billion people...   \n",
       "\n",
       "                                                summary  \\\n",
       "0     administration union territory daman diu revok...   \n",
       "1     malaika arora slammed instagram user trolled d...   \n",
       "2     indira gandhi institute medical sciences patna...   \n",
       "3     lashkar-e-taiba's kashmir commander abu dujana...   \n",
       "4     hotels maharashtra train staff spot signs sex ...   \n",
       "...                                                 ...   \n",
       "4391  fruit juice concentrate maker rasna eyeing rev...   \n",
       "4392  former indian cricketer sachin tendulkar atten...   \n",
       "4393  aamir khan, talking reality shows television f...   \n",
       "4394  maharashtra government initiated inquiry -year...   \n",
       "4395  least languages half languages spoken india's ...   \n",
       "\n",
       "                                      generated_summary  \n",
       "0     daman diu administration wednesday withdrew ci...  \n",
       "1     special numbers tv?appearances, bollywood acto...  \n",
       "2     indira gandhi institute medical sciences patna...  \n",
       "3     dujana, managed give security forces slip seve...  \n",
       "4     rising property prices, traditional red light ...  \n",
       "...                                                 ...  \n",
       "4391  company invested rs crore far vitos plans expo...  \n",
       "4392                                                     \n",
       "4393  aamir khan, whose last film dangal told story ...  \n",
       "4394  bhosle received similar bills past bungalow re...  \n",
       "4395  india's people speak many different languages,...  \n",
       "\n",
       "[4396 rows x 3 columns]"
      ]
     },
     "execution_count": 21,
     "metadata": {},
     "output_type": "execute_result"
    }
   ],
   "source": [
    "#building pipeline for summarization of all the text in the dataset\n",
    "\n",
    "def summarize_text(text):\n",
    "    return summarizer.summarize(text, ratio=0.2, language='english')\n",
    "\n",
    "df['generated_summary'] = df['text'].apply(summarize_text)\n",
    "\n",
    "df"
   ]
  },
  {
   "cell_type": "code",
   "execution_count": 22,
   "metadata": {},
   "outputs": [],
   "source": [
    "# calculating rouge scores of the generated summary\n",
    "\n",
    "from sumeval.metrics.rouge import RougeCalculator\n",
    "\n",
    "rouge = RougeCalculator(stopwords=True, lang=\"en\")\n",
    "\n"
   ]
  },
  {
   "cell_type": "code",
   "execution_count": 23,
   "metadata": {},
   "outputs": [],
   "source": [
    "# calculating rouge scores of the generated summary\n",
    "def rouge_calc(preds, targets):\n",
    "    rouge_1 = [rouge.rouge_n(summary=preds[i],references=targets[i],n=1) for i in range(len(preds))]\n",
    "    \n",
    "    rouge_2 = [rouge.rouge_n(summary=preds[i],references=targets[i],n=2) for i in range(len(preds))]\n",
    "    \n",
    "    rouge_l = [rouge.rouge_l(summary=preds[i],references=targets[i]) for i in range(len(preds))]\n",
    "    # get the average of the rouge scores\n",
    "    return {\"Rouge_1\": np.array(rouge_1).mean(),\n",
    "            \n",
    "            \"Rouge_2\": np.array(rouge_2).mean(),\n",
    "            \n",
    "            \"Rouge_L\": np.array(rouge_l).mean()}"
   ]
  },
  {
   "cell_type": "code",
   "execution_count": 25,
   "metadata": {},
   "outputs": [
    {
     "data": {
      "text/plain": [
       "{'Rouge_1': 0.2598418492010122,\n",
       " 'Rouge_2': 0.12002228311211788,\n",
       " 'Rouge_L': 0.19699924793967336}"
      ]
     },
     "execution_count": 25,
     "metadata": {},
     "output_type": "execute_result"
    }
   ],
   "source": [
    "rouge_calc(list(df['generated_summary']), list(df['summary']))"
   ]
  },
  {
   "cell_type": "code",
   "execution_count": 26,
   "metadata": {},
   "outputs": [
    {
     "data": {
      "image/png": "[encoded data removed]",
      "text/plain": [
       "<Figure size 640x480 with 1 Axes>"
      ]
     },
     "metadata": {},
     "output_type": "display_data"
    }
   ],
   "source": [
    "# graph of rouge scores vs ratio in summarizer , to find the best ratio\n",
    "\n",
    "import matplotlib.pyplot as plt\n",
    "\n",
    "# array of 0.1 to 1 with 10 values\n",
    "ratios = np.linspace(0.1, 1, 10)\n",
    "\n",
    "rouge_1 = []\n",
    "rouge_2 = []\n",
    "rouge_l = []\n",
    "\n",
    "# for each ratio in ratios calculate the rouge scores\n",
    "for ratio in ratios:\n",
    "    df['generated_summary'] = df['text'].apply(lambda x: summarizer.summarize(x, ratio=ratio, language='english'))\n",
    "    # calculate rouge scores\n",
    "    rouge_scores = rouge_calc(list(df['generated_summary']), list(df['summary']))\n",
    "    \n",
    "    rouge_1.append(rouge_scores['Rouge_1'])\n",
    "    \n",
    "    rouge_2.append(rouge_scores['Rouge_2'])\n",
    "    \n",
    "    rouge_l.append(rouge_scores['Rouge_L'])\n",
    "\n",
    "#   plot the graph\n",
    "    \n",
    "plt.plot(ratios, rouge_1, label='Rouge_1')\n",
    "\n",
    "plt.plot(ratios, rouge_2, label='Rouge_2')\n",
    "\n",
    "plt.plot(ratios, rouge_l, label='Rouge_L')\n",
    "\n",
    "plt.xlabel('Ratio')\n",
    "\n",
    "plt.ylabel('Rouge Score')\n",
    "\n",
    "plt.legend()\n",
    "\n",
    "plt.show()\n",
    "\n",
    "\n",
    "# we find that the best ratio is between 0.2 to 0.4  for this dataset after that it declines \n"
   ]
  },
  {
   "cell_type": "code",
   "execution_count": 27,
   "metadata": {},
   "outputs": [
    {
     "data": {
      "text/plain": [
       "array([0.1, 0.2, 0.3, 0.4, 0.5, 0.6, 0.7, 0.8, 0.9, 1. ])"
      ]
     },
     "execution_count": 27,
     "metadata": {},
     "output_type": "execute_result"
    }
   ],
   "source": [
    "ratios"
   ]
  }
 ],
 "metadata": {
  "kernelspec": {
   "display_name": "Python 3",
   "language": "python",
   "name": "python3"
  },
  "language_info": {
   "codemirror_mode": {
    "name": "ipython",
    "version": 3
   },
   "file_extension": ".py",
   "mimetype": "text/x-python",
   "name": "python",
   "nbconvert_exporter": "python",
   "pygments_lexer": "ipython3",
   "version": "3.12.2"
  }
 },
 "nbformat": 4,
 "nbformat_minor": 2
}
