{
 "cells": [
  {
   "cell_type": "code",
   "execution_count": 1,
   "metadata": {},
   "outputs": [],
   "source": [
    "from sklearn.model_selection import train_test_split\n",
    "\n",
    "import pandas as pd"
   ]
  },
  {
   "cell_type": "code",
   "execution_count": 2,
   "metadata": {},
   "outputs": [],
   "source": [
    "# splitting the dataset into train test and validation set \n",
    "\n",
    "data = pd.read_csv('../preprocessed.csv')\n",
    "\n",
    "train_val  , test_data  =  train_test_split(data , test_size=0.2 , random_state= 42 )\n",
    "\n",
    "train_data , validation_data = train_test_split(train_val , test_size= 0.1 , random_state= 42)"
   ]
  },
  {
   "cell_type": "code",
   "execution_count": 3,
   "metadata": {},
   "outputs": [],
   "source": [
    "from operator import index\n",
    "\n",
    "#saving the data to csv files\n",
    "\n",
    "test_data.to_csv('test.csv', index= False)\n",
    "\n",
    "train_data.to_csv('train.csv' , index= False)\n",
    "\n",
    "validation_data.to_csv('val.csv' , index = False)"
   ]
  },
  {
   "cell_type": "code",
   "execution_count": 5,
   "metadata": {},
   "outputs": [
    {
     "data": {
      "text/html": [
       "<div>\n",
       "<style scoped>\n",
       "    .dataframe tbody tr th:only-of-type {\n",
       "        vertical-align: middle;\n",
       "    }\n",
       "\n",
       "    .dataframe tbody tr th {\n",
       "        vertical-align: top;\n",
       "    }\n",
       "\n",
       "    .dataframe thead th {\n",
       "        text-align: right;\n",
       "    }\n",
       "</style>\n",
       "<table border=\"1\" class=\"dataframe\">\n",
       "  <thead>\n",
       "    <tr style=\"text-align: right;\">\n",
       "      <th></th>\n",
       "      <th>text</th>\n",
       "      <th>summary</th>\n",
       "    </tr>\n",
       "  </thead>\n",
       "  <tbody>\n",
       "    <tr>\n",
       "      <th>count</th>\n",
       "      <td>3516</td>\n",
       "      <td>3516</td>\n",
       "    </tr>\n",
       "    <tr>\n",
       "      <th>unique</th>\n",
       "      <td>3477</td>\n",
       "      <td>3516</td>\n",
       "    </tr>\n",
       "    <tr>\n",
       "      <th>top</th>\n",
       "      <td>aaj tak live tv with live election results i c...</td>\n",
       "      <td>criticising the up chief minister, bjp mp yogi...</td>\n",
       "    </tr>\n",
       "    <tr>\n",
       "      <th>freq</th>\n",
       "      <td>9</td>\n",
       "      <td>1</td>\n",
       "    </tr>\n",
       "  </tbody>\n",
       "</table>\n",
       "</div>"
      ],
      "text/plain": [
       "                                                     text  \\\n",
       "count                                                3516   \n",
       "unique                                               3477   \n",
       "top     aaj tak live tv with live election results i c...   \n",
       "freq                                                    9   \n",
       "\n",
       "                                                  summary  \n",
       "count                                                3516  \n",
       "unique                                               3516  \n",
       "top     criticising the up chief minister, bjp mp yogi...  \n",
       "freq                                                    1  "
      ]
     },
     "execution_count": 5,
     "metadata": {},
     "output_type": "execute_result"
    }
   ],
   "source": [
    "train_val.describe()"
   ]
  },
  {
   "cell_type": "code",
   "execution_count": 3,
   "metadata": {},
   "outputs": [
    {
     "data": {
      "text/html": [
       "<div>\n",
       "<style scoped>\n",
       "    .dataframe tbody tr th:only-of-type {\n",
       "        vertical-align: middle;\n",
       "    }\n",
       "\n",
       "    .dataframe tbody tr th {\n",
       "        vertical-align: top;\n",
       "    }\n",
       "\n",
       "    .dataframe thead th {\n",
       "        text-align: right;\n",
       "    }\n",
       "</style>\n",
       "<table border=\"1\" class=\"dataframe\">\n",
       "  <thead>\n",
       "    <tr style=\"text-align: right;\">\n",
       "      <th></th>\n",
       "      <th>text</th>\n",
       "      <th>summary</th>\n",
       "    </tr>\n",
       "  </thead>\n",
       "  <tbody>\n",
       "    <tr>\n",
       "      <th>0</th>\n",
       "      <td>the daman and diu administration on wednesday ...</td>\n",
       "      <td>the administration of union territory daman an...</td>\n",
       "    </tr>\n",
       "    <tr>\n",
       "      <th>1</th>\n",
       "      <td>from her special numbers to tv?appearances, bo...</td>\n",
       "      <td>malaika arora slammed an instagram user who tr...</td>\n",
       "    </tr>\n",
       "    <tr>\n",
       "      <th>2</th>\n",
       "      <td>the indira gandhi institute of medical science...</td>\n",
       "      <td>the indira gandhi institute of medical science...</td>\n",
       "    </tr>\n",
       "    <tr>\n",
       "      <th>3</th>\n",
       "      <td>lashkar-e-taiba's kashmir commander abu dujana...</td>\n",
       "      <td>lashkar-e-taiba's kashmir commander abu dujana...</td>\n",
       "    </tr>\n",
       "    <tr>\n",
       "      <th>4</th>\n",
       "      <td>hotels in mumbai and other indian cities are t...</td>\n",
       "      <td>hotels in maharashtra will train their staff t...</td>\n",
       "    </tr>\n",
       "    <tr>\n",
       "      <th>...</th>\n",
       "      <td>...</td>\n",
       "      <td>...</td>\n",
       "    </tr>\n",
       "    <tr>\n",
       "      <th>4391</th>\n",
       "      <td>mumbai, feb    (pti) fruit juice concentrate m...</td>\n",
       "      <td>fruit juice concentrate maker rasna is eyeing ...</td>\n",
       "    </tr>\n",
       "    <tr>\n",
       "      <th>4392</th>\n",
       "      <td>former cricketer sachin tendulkar was spotted ...</td>\n",
       "      <td>former indian cricketer sachin tendulkar atten...</td>\n",
       "    </tr>\n",
       "    <tr>\n",
       "      <th>4393</th>\n",
       "      <td>aamir khan, whose last film dangal told the st...</td>\n",
       "      <td>aamir khan, while talking about reality shows ...</td>\n",
       "    </tr>\n",
       "    <tr>\n",
       "      <th>4394</th>\n",
       "      <td>maharahstra power minister chandrashekhar bawa...</td>\n",
       "      <td>the maharashtra government has initiated an in...</td>\n",
       "    </tr>\n",
       "    <tr>\n",
       "      <th>4395</th>\n",
       "      <td>more than half of the languages spoken by indi...</td>\n",
       "      <td>at least     languages or more than half langu...</td>\n",
       "    </tr>\n",
       "  </tbody>\n",
       "</table>\n",
       "<p>4396 rows × 2 columns</p>\n",
       "</div>"
      ],
      "text/plain": [
       "                                                   text  \\\n",
       "0     the daman and diu administration on wednesday ...   \n",
       "1     from her special numbers to tv?appearances, bo...   \n",
       "2     the indira gandhi institute of medical science...   \n",
       "3     lashkar-e-taiba's kashmir commander abu dujana...   \n",
       "4     hotels in mumbai and other indian cities are t...   \n",
       "...                                                 ...   \n",
       "4391  mumbai, feb    (pti) fruit juice concentrate m...   \n",
       "4392  former cricketer sachin tendulkar was spotted ...   \n",
       "4393  aamir khan, whose last film dangal told the st...   \n",
       "4394  maharahstra power minister chandrashekhar bawa...   \n",
       "4395  more than half of the languages spoken by indi...   \n",
       "\n",
       "                                                summary  \n",
       "0     the administration of union territory daman an...  \n",
       "1     malaika arora slammed an instagram user who tr...  \n",
       "2     the indira gandhi institute of medical science...  \n",
       "3     lashkar-e-taiba's kashmir commander abu dujana...  \n",
       "4     hotels in maharashtra will train their staff t...  \n",
       "...                                                 ...  \n",
       "4391  fruit juice concentrate maker rasna is eyeing ...  \n",
       "4392  former indian cricketer sachin tendulkar atten...  \n",
       "4393  aamir khan, while talking about reality shows ...  \n",
       "4394  the maharashtra government has initiated an in...  \n",
       "4395  at least     languages or more than half langu...  \n",
       "\n",
       "[4396 rows x 2 columns]"
      ]
     },
     "execution_count": 3,
     "metadata": {},
     "output_type": "execute_result"
    }
   ],
   "source": [
    "data"
   ]
  },
  {
   "cell_type": "code",
   "execution_count": 1,
   "metadata": {},
   "outputs": [],
   "source": [
    "#using the pretrained t5-small model \n",
    "from tqdm import tqdm\n",
    "\n",
    "import torch\n",
    "\n",
    "from transformers import T5Tokenizer, T5ForConditionalGeneration\n"
   ]
  },
  {
   "cell_type": "code",
   "execution_count": 3,
   "metadata": {},
   "outputs": [
    {
     "name": "stderr",
     "output_type": "stream",
     "text": [
      "You are using the default legacy behaviour of the <class 'transformers.models.t5.tokenization_t5.T5Tokenizer'>. This is expected, and simply means that the `legacy` (previous) behavior will be used so nothing changes for you. If you want to use the new behaviour, set `legacy=False`. This should only be set if you understand what it means, and thoroughly read the reason why this was added as explained in https://github.com/huggingface/transformers/pull/24565\n",
      "Special tokens have been added in the vocabulary, make sure the associated word embeddings are fine-tuned or trained.\n"
     ]
    }
   ],
   "source": [
    "model_name = 't5-small'\n",
    "\n",
    "#loading the tokenizer and model\n",
    "\n",
    "tokenizer = T5Tokenizer.from_pretrained(model_name)\n",
    "\n",
    "model = T5ForConditionalGeneration.from_pretrained(model_name)"
   ]
  },
  {
   "cell_type": "code",
   "execution_count": 7,
   "metadata": {},
   "outputs": [],
   "source": [
    "#making a function to summarize the text , using max_length , min_length , length_penalty and num_beams as hyperparameters\n",
    "\n",
    "def summarize(text, model, tokenizer, max_length=150, min_length=40, length_penalty=2.0, num_beams=4):\n",
    "    \n",
    "    inputs = tokenizer.encode(\"summarize: \" + text, return_tensors=\"pt\", max_length=512, truncation=True)\n",
    "    \n",
    "    inputs = inputs.to(device)\n",
    "    \n",
    "    summary_ids = model.generate(inputs, max_length=max_length, min_length=min_length, length_penalty=length_penalty, num_beams=num_beams, early_stopping=True)\n",
    "    \n",
    "    return tokenizer.decode(summary_ids[0], skip_special_tokens=True)\n",
    "\n",
    "# Generate summaries\n",
    "test_data['generated_summary'] = test_data['text'].apply(lambda x: summarize(x, model, tokenizer))"
   ]
  },
  {
   "cell_type": "code",
   "execution_count": 11,
   "metadata": {},
   "outputs": [
    {
     "data": {
      "text/html": [
       "<div>\n",
       "<style scoped>\n",
       "    .dataframe tbody tr th:only-of-type {\n",
       "        vertical-align: middle;\n",
       "    }\n",
       "\n",
       "    .dataframe tbody tr th {\n",
       "        vertical-align: top;\n",
       "    }\n",
       "\n",
       "    .dataframe thead th {\n",
       "        text-align: right;\n",
       "    }\n",
       "</style>\n",
       "<table border=\"1\" class=\"dataframe\">\n",
       "  <thead>\n",
       "    <tr style=\"text-align: right;\">\n",
       "      <th></th>\n",
       "      <th>text</th>\n",
       "      <th>summary</th>\n",
       "      <th>generated_summary</th>\n",
       "    </tr>\n",
       "  </thead>\n",
       "  <tbody>\n",
       "    <tr>\n",
       "      <th>3942</th>\n",
       "      <td>washington, mar    (pti) a   -year-old woman i...</td>\n",
       "      <td>a woman, who was arrested twice last week for ...</td>\n",
       "      <td>marci anderson wahl of everett, washington, wa...</td>\n",
       "    </tr>\n",
       "    <tr>\n",
       "      <th>2658</th>\n",
       "      <td>the tea stall in guajarat's vadnagar where pri...</td>\n",
       "      <td>a tea stall in gujarat's vadnagar railway stat...</td>\n",
       "      <td>the tea stall in guajarat's vadnagar is set to...</td>\n",
       "    </tr>\n",
       "    <tr>\n",
       "      <th>1532</th>\n",
       "      <td>continuing a yearly tradition, outgoing us pre...</td>\n",
       "      <td>us president barack obama has declared january...</td>\n",
       "      <td>president obama signs proclamation to declare ...</td>\n",
       "    </tr>\n",
       "    <tr>\n",
       "      <th>414</th>\n",
       "      <td>the supreme court on thursday rejected a petit...</td>\n",
       "      <td>the supreme court on thursday rejected a petit...</td>\n",
       "      <td>the supreme court rejected a petition seeking ...</td>\n",
       "    </tr>\n",
       "    <tr>\n",
       "      <th>4158</th>\n",
       "      <td>captain amarinder singh, the congress's chief ...</td>\n",
       "      <td>congress leader captain amarinder singh will t...</td>\n",
       "      <td>captain amarinder singh, the congress's chief ...</td>\n",
       "    </tr>\n",
       "    <tr>\n",
       "      <th>...</th>\n",
       "      <td>...</td>\n",
       "      <td>...</td>\n",
       "      <td>...</td>\n",
       "    </tr>\n",
       "    <tr>\n",
       "      <th>2063</th>\n",
       "      <td>new delhi, dec   (pti) dismissing the petition...</td>\n",
       "      <td>while dismissing a petition against demonetisa...</td>\n",
       "      <td>justice ashok b hinchigeri says \"laudable obje...</td>\n",
       "    </tr>\n",
       "    <tr>\n",
       "      <th>3726</th>\n",
       "      <td>there's strange, there's unfathomable, then th...</td>\n",
       "      <td>a dutch game show was slammed by people for an...</td>\n",
       "      <td>the first episode of game show, neem je zwemsp...</td>\n",
       "    </tr>\n",
       "    <tr>\n",
       "      <th>3043</th>\n",
       "      <td>taimur ali khan is undoubtedly one of the cute...</td>\n",
       "      <td>pictures of saif ali khan and kareena kapoor k...</td>\n",
       "      <td>taimur ali khan is one of the cutest star kids...</td>\n",
       "    </tr>\n",
       "    <tr>\n",
       "      <th>1407</th>\n",
       "      <td>a preliminary enquiry has been ordered  by the...</td>\n",
       "      <td>the economic offences wing of the delhi police...</td>\n",
       "      <td>a preliminary enquiry has been ordered by the ...</td>\n",
       "    </tr>\n",
       "    <tr>\n",
       "      <th>3413</th>\n",
       "      <td>prime minister narendra modi today inaugurated...</td>\n",
       "      <td>prime minister narendra modi on wednesday inau...</td>\n",
       "      <td>prime minister narendra modi inaugurated a res...</td>\n",
       "    </tr>\n",
       "  </tbody>\n",
       "</table>\n",
       "<p>880 rows × 3 columns</p>\n",
       "</div>"
      ],
      "text/plain": [
       "                                                   text  \\\n",
       "3942  washington, mar    (pti) a   -year-old woman i...   \n",
       "2658  the tea stall in guajarat's vadnagar where pri...   \n",
       "1532  continuing a yearly tradition, outgoing us pre...   \n",
       "414   the supreme court on thursday rejected a petit...   \n",
       "4158  captain amarinder singh, the congress's chief ...   \n",
       "...                                                 ...   \n",
       "2063  new delhi, dec   (pti) dismissing the petition...   \n",
       "3726  there's strange, there's unfathomable, then th...   \n",
       "3043  taimur ali khan is undoubtedly one of the cute...   \n",
       "1407  a preliminary enquiry has been ordered  by the...   \n",
       "3413  prime minister narendra modi today inaugurated...   \n",
       "\n",
       "                                                summary  \\\n",
       "3942  a woman, who was arrested twice last week for ...   \n",
       "2658  a tea stall in gujarat's vadnagar railway stat...   \n",
       "1532  us president barack obama has declared january...   \n",
       "414   the supreme court on thursday rejected a petit...   \n",
       "4158  congress leader captain amarinder singh will t...   \n",
       "...                                                 ...   \n",
       "2063  while dismissing a petition against demonetisa...   \n",
       "3726  a dutch game show was slammed by people for an...   \n",
       "3043  pictures of saif ali khan and kareena kapoor k...   \n",
       "1407  the economic offences wing of the delhi police...   \n",
       "3413  prime minister narendra modi on wednesday inau...   \n",
       "\n",
       "                                      generated_summary  \n",
       "3942  marci anderson wahl of everett, washington, wa...  \n",
       "2658  the tea stall in guajarat's vadnagar is set to...  \n",
       "1532  president obama signs proclamation to declare ...  \n",
       "414   the supreme court rejected a petition seeking ...  \n",
       "4158  captain amarinder singh, the congress's chief ...  \n",
       "...                                                 ...  \n",
       "2063  justice ashok b hinchigeri says \"laudable obje...  \n",
       "3726  the first episode of game show, neem je zwemsp...  \n",
       "3043  taimur ali khan is one of the cutest star kids...  \n",
       "1407  a preliminary enquiry has been ordered by the ...  \n",
       "3413  prime minister narendra modi inaugurated a res...  \n",
       "\n",
       "[880 rows x 3 columns]"
      ]
     },
     "execution_count": 11,
     "metadata": {},
     "output_type": "execute_result"
    }
   ],
   "source": [
    "test_data"
   ]
  },
  {
   "cell_type": "code",
   "execution_count": 9,
   "metadata": {},
   "outputs": [],
   "source": [
    "from rouge_score import rouge_scorer, scoring"
   ]
  },
  {
   "cell_type": "code",
   "execution_count": 10,
   "metadata": {},
   "outputs": [],
   "source": [
    "# Initialize the ROUGE scorer\n",
    "# The ROUGE scorer allows us to calculate the ROUGE scores for our model\n",
    "\n",
    "scorer = rouge_scorer.RougeScorer(['rouge1', 'rouge2', 'rougeL'], use_stemmer=True)\n",
    "\n",
    "aggregator = scoring.BootstrapAggregator()\n",
    "\n",
    "\n",
    "for ref, gen in zip(test_data['summary'], test_data['generated_summary']):\n",
    "    \n",
    "    scores = scorer.score(ref, gen)\n",
    "    \n",
    "    aggregator.add_scores(scores)\n",
    "\n",
    "\n",
    "result = aggregator.aggregate()"
   ]
  },
  {
   "cell_type": "code",
   "execution_count": 14,
   "metadata": {},
   "outputs": [
    {
     "name": "stdout",
     "output_type": "stream",
     "text": [
      "ROUGE-1:  AggregateScore(low=Score(precision=0.4877553133236592, recall=0.3590541315979636, fmeasure=0.4082635365070005), mid=Score(precision=0.49779838158982004, recall=0.3670572029078681, fmeasure=0.4167666941054268), high=Score(precision=0.507836838269845, recall=0.3755962784400046, fmeasure=0.4252769393095014))\n",
      "ROUGE-2:  AggregateScore(low=Score(precision=0.22907568987834967, recall=0.16762457094202085, fmeasure=0.19073430464333807), mid=Score(precision=0.23957789775278623, recall=0.17519767516881163, fmeasure=0.19950219253300497), high=Score(precision=0.24986429548180078, recall=0.18309902633045375, fmeasure=0.20853294353212048))\n",
      "ROUGE-L:  AggregateScore(low=Score(precision=0.35603848493563955, recall=0.2607843685561796, fmeasure=0.2973363048322053), mid=Score(precision=0.3672165370036532, recall=0.2690754458901813, fmeasure=0.30636262257415037), high=Score(precision=0.37658872423797224, recall=0.27643280852123653, fmeasure=0.3139865678693584))\n"
     ]
    }
   ],
   "source": [
    "print(\"ROUGE-1: \", result['rouge1'])\n",
    "\n",
    "print(\"ROUGE-2: \", result['rouge2'])\n",
    "\n",
    "print(\"ROUGE-L: \", result['rougeL'])"
   ]
  },
  {
   "cell_type": "code",
   "execution_count": 15,
   "metadata": {},
   "outputs": [],
   "source": [
    "import matplotlib.pyplot as plt"
   ]
  },
  {
   "cell_type": "code",
   "execution_count": 19,
   "metadata": {},
   "outputs": [
    {
     "data": {
      "image/png": "[encoded data removed]",
      "text/plain": [
       "<Figure size 640x480 with 1 Axes>"
      ]
     },
     "metadata": {},
     "output_type": "display_data"
    }
   ],
   "source": [
    "# Plotting the ROUGE scores for the model using a bar graph\n",
    "\n",
    "metrics = ['Precision', 'Recall', 'F1']\n",
    "\n",
    "rouge1_scores = [result['rouge1'].mid.precision, result['rouge1'].mid.recall, result['rouge1'].mid.fmeasure]\n",
    "rouge2_scores = [result['rouge2'].mid.precision, result['rouge2'].mid.recall, result['rouge2'].mid.fmeasure]\n",
    "rougeL_scores = [result['rougeL'].mid.precision, result['rougeL'].mid.recall, result['rougeL'].mid.fmeasure]\n",
    "\n",
    "\n",
    "fig, ax = plt.subplots()\n",
    "\n",
    "index = range(len(metrics))\n",
    "\n",
    "bar_width = 0.2\n"
   ]
  },
  {
   "cell_type": "code",
   "execution_count": 20,
   "metadata": {},
   "outputs": [
    {
     "data": {
      "image/png": "[encoded data removed]",
      "text/plain": [
       "<Figure size 640x480 with 1 Axes>"
      ]
     },
     "metadata": {},
     "output_type": "display_data"
    }
   ],
   "source": [
    "# Plotting the bar graph\n",
    "\n",
    "bar1 = plt.bar(index, rouge1_scores, bar_width, label='ROUGE-1')\n",
    "\n",
    "bar2 = plt.bar([p + bar_width for p in index], rouge2_scores, bar_width, label='ROUGE-2')\n",
    "\n",
    "bar3 = plt.bar([p + bar_width*2 for p in index], rougeL_scores, bar_width, label='ROUGE-L')\n",
    "\n",
    "\n",
    "# Adding labels\n",
    "plt.xlabel('Metrics')\n",
    "\n",
    "plt.ylabel('Scores')\n",
    "\n",
    "plt.title('ROUGE Scores for Summarization')\n",
    "\n",
    "plt.xticks([p + bar_width for p in index], metrics)\n",
    "\n",
    "plt.legend()\n",
    "\n",
    "\n",
    "\n",
    "plt.tight_layout()\n",
    "\n",
    "plt.show()"
   ]
  }
 ],
 "metadata": {
  "kernelspec": {
   "display_name": "Python 3",
   "language": "python",
   "name": "python3"
  },
  "language_info": {
   "codemirror_mode": {
    "name": "ipython",
    "version": 3
   },
   "file_extension": ".py",
   "mimetype": "text/x-python",
   "name": "python",
   "nbconvert_exporter": "python",
   "pygments_lexer": "ipython3",
   "version": "3.12.2"
  }
 },
 "nbformat": 4,
 "nbformat_minor": 2
}
