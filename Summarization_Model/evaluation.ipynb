{
 "cells": [
  {
   "cell_type": "code",
   "execution_count": 1,
   "metadata": {},
   "outputs": [],
   "source": [
    "import torch\n",
    "from simpletransformers.t5 import T5Model, T5Args"
   ]
  },
  {
   "cell_type": "code",
   "execution_count": 2,
   "metadata": {},
   "outputs": [
    {
     "data": {
      "text/plain": [
       "True"
      ]
     },
     "execution_count": 2,
     "metadata": {},
     "output_type": "execute_result"
    }
   ],
   "source": [
    "cuda =  torch.cuda.is_available()\n",
    "cuda"
   ]
  },
  {
   "cell_type": "code",
   "execution_count": 3,
   "metadata": {},
   "outputs": [
    {
     "name": "stderr",
     "output_type": "stream",
     "text": [
      "Special tokens have been added in the vocabulary, make sure the associated word embeddings are fine-tuned or trained.\n"
     ]
    }
   ],
   "source": [
    "# parameters for prediction, set multiprocessed decoding to False to avoid CUDA out of memory error\n",
    "pred_params = {\n",
    "        'max_seq_length': 512,\n",
    "        'use_multiprocessed_decoding': False\n",
    "        }\n",
    "\n",
    "#load final model from /outputs\n",
    "model = T5Model('t5', 'outputs/best_model', args=pred_params, use_cuda=cuda) "
   ]
  },
  {
   "cell_type": "code",
   "execution_count": 4,
   "metadata": {},
   "outputs": [],
   "source": [
    "import pandas as pd\n",
    "test =  pd.read_csv('test.csv')"
   ]
  },
  {
   "cell_type": "code",
   "execution_count": 7,
   "metadata": {},
   "outputs": [
    {
     "data": {
      "text/html": [
       "<div>\n",
       "<style scoped>\n",
       "    .dataframe tbody tr th:only-of-type {\n",
       "        vertical-align: middle;\n",
       "    }\n",
       "\n",
       "    .dataframe tbody tr th {\n",
       "        vertical-align: top;\n",
       "    }\n",
       "\n",
       "    .dataframe thead th {\n",
       "        text-align: right;\n",
       "    }\n",
       "</style>\n",
       "<table border=\"1\" class=\"dataframe\">\n",
       "  <thead>\n",
       "    <tr style=\"text-align: right;\">\n",
       "      <th></th>\n",
       "      <th>input_text</th>\n",
       "      <th>target_text</th>\n",
       "      <th>prefix</th>\n",
       "    </tr>\n",
       "  </thead>\n",
       "  <tbody>\n",
       "    <tr>\n",
       "      <th>0</th>\n",
       "      <td>washington, mar    (pti) a   -year-old woman i...</td>\n",
       "      <td>a woman, who was arrested twice last week for ...</td>\n",
       "      <td></td>\n",
       "    </tr>\n",
       "    <tr>\n",
       "      <th>1</th>\n",
       "      <td>the tea stall in guajarat's vadnagar where pri...</td>\n",
       "      <td>a tea stall in gujarat's vadnagar railway stat...</td>\n",
       "      <td></td>\n",
       "    </tr>\n",
       "    <tr>\n",
       "      <th>2</th>\n",
       "      <td>continuing a yearly tradition, outgoing us pre...</td>\n",
       "      <td>us president barack obama has declared january...</td>\n",
       "      <td></td>\n",
       "    </tr>\n",
       "    <tr>\n",
       "      <th>3</th>\n",
       "      <td>the supreme court on thursday rejected a petit...</td>\n",
       "      <td>the supreme court on thursday rejected a petit...</td>\n",
       "      <td></td>\n",
       "    </tr>\n",
       "    <tr>\n",
       "      <th>4</th>\n",
       "      <td>captain amarinder singh, the congress's chief ...</td>\n",
       "      <td>congress leader captain amarinder singh will t...</td>\n",
       "      <td></td>\n",
       "    </tr>\n",
       "    <tr>\n",
       "      <th>...</th>\n",
       "      <td>...</td>\n",
       "      <td>...</td>\n",
       "      <td>...</td>\n",
       "    </tr>\n",
       "    <tr>\n",
       "      <th>875</th>\n",
       "      <td>new delhi, dec   (pti) dismissing the petition...</td>\n",
       "      <td>while dismissing a petition against demonetisa...</td>\n",
       "      <td></td>\n",
       "    </tr>\n",
       "    <tr>\n",
       "      <th>876</th>\n",
       "      <td>there's strange, there's unfathomable, then th...</td>\n",
       "      <td>a dutch game show was slammed by people for an...</td>\n",
       "      <td></td>\n",
       "    </tr>\n",
       "    <tr>\n",
       "      <th>877</th>\n",
       "      <td>taimur ali khan is undoubtedly one of the cute...</td>\n",
       "      <td>pictures of saif ali khan and kareena kapoor k...</td>\n",
       "      <td></td>\n",
       "    </tr>\n",
       "    <tr>\n",
       "      <th>878</th>\n",
       "      <td>a preliminary enquiry has been ordered  by the...</td>\n",
       "      <td>the economic offences wing of the delhi police...</td>\n",
       "      <td></td>\n",
       "    </tr>\n",
       "    <tr>\n",
       "      <th>879</th>\n",
       "      <td>prime minister narendra modi today inaugurated...</td>\n",
       "      <td>prime minister narendra modi on wednesday inau...</td>\n",
       "      <td></td>\n",
       "    </tr>\n",
       "  </tbody>\n",
       "</table>\n",
       "<p>880 rows × 3 columns</p>\n",
       "</div>"
      ],
      "text/plain": [
       "                                            input_text  \\\n",
       "0    washington, mar    (pti) a   -year-old woman i...   \n",
       "1    the tea stall in guajarat's vadnagar where pri...   \n",
       "2    continuing a yearly tradition, outgoing us pre...   \n",
       "3    the supreme court on thursday rejected a petit...   \n",
       "4    captain amarinder singh, the congress's chief ...   \n",
       "..                                                 ...   \n",
       "875  new delhi, dec   (pti) dismissing the petition...   \n",
       "876  there's strange, there's unfathomable, then th...   \n",
       "877  taimur ali khan is undoubtedly one of the cute...   \n",
       "878  a preliminary enquiry has been ordered  by the...   \n",
       "879  prime minister narendra modi today inaugurated...   \n",
       "\n",
       "                                           target_text prefix  \n",
       "0    a woman, who was arrested twice last week for ...         \n",
       "1    a tea stall in gujarat's vadnagar railway stat...         \n",
       "2    us president barack obama has declared january...         \n",
       "3    the supreme court on thursday rejected a petit...         \n",
       "4    congress leader captain amarinder singh will t...         \n",
       "..                                                 ...    ...  \n",
       "875  while dismissing a petition against demonetisa...         \n",
       "876  a dutch game show was slammed by people for an...         \n",
       "877  pictures of saif ali khan and kareena kapoor k...         \n",
       "878  the economic offences wing of the delhi police...         \n",
       "879  prime minister narendra modi on wednesday inau...         \n",
       "\n",
       "[880 rows x 3 columns]"
      ]
     },
     "execution_count": 7,
     "metadata": {},
     "output_type": "execute_result"
    }
   ],
   "source": [
    "# rename columns to match the model's input\n",
    "test = test.rename(columns={\"summary\":\"target_text\", \"text\":\"input_text\"})\n",
    "test['prefix'] = ''\n",
    "test"
   ]
  },
  {
   "cell_type": "code",
   "execution_count": 8,
   "metadata": {},
   "outputs": [
    {
     "data": {
      "application/vnd.jupyter.widget-view+json": {
       "model_id": "48565ff515d34637b8066c8e08bc34fc",
       "version_major": 2,
       "version_minor": 0
      },
      "text/plain": [
       "Generating outputs:   0%|          | 0/110 [00:00<?, ?it/s]"
      ]
     },
     "metadata": {},
     "output_type": "display_data"
    },
    {
     "name": "stderr",
     "output_type": "stream",
     "text": [
      "c:\\Users\\Perplex420\\AppData\\Local\\Programs\\Python\\Python312\\Lib\\site-packages\\transformers\\tokenization_utils_base.py:4072: FutureWarning: \n",
      "`prepare_seq2seq_batch` is deprecated and will be removed in version 5 of HuggingFace Transformers. Use the regular\n",
      "`__call__` method to prepare your inputs and targets.\n",
      "\n",
      "Here is a short example:\n",
      "\n",
      "model_inputs = tokenizer(src_texts, text_target=tgt_texts, ...)\n",
      "\n",
      "If you either need to use different keyword arguments for the source and target texts, you should do two calls like\n",
      "this:\n",
      "\n",
      "model_inputs = tokenizer(src_texts, ...)\n",
      "labels = tokenizer(text_target=tgt_texts, ...)\n",
      "model_inputs[\"labels\"] = labels[\"input_ids\"]\n",
      "\n",
      "See the documentation of your specific tokenizer for more details on the specific arguments to the tokenizer of choice.\n",
      "For a more complete example, see the implementation of `prepare_seq2seq_batch`.\n",
      "\n",
      "  warnings.warn(formatted_warning, FutureWarning)\n",
      "c:\\Users\\Perplex420\\AppData\\Local\\Programs\\Python\\Python312\\Lib\\site-packages\\transformers\\generation\\configuration_utils.py:563: UserWarning: `num_beams` is set to 1. However, `early_stopping` is set to `True` -- this flag is only used in beam-based generation modes. You should set `num_beams>1` or unset `early_stopping`.\n",
      "  warnings.warn(\n",
      "c:\\Users\\Perplex420\\AppData\\Local\\Programs\\Python\\Python312\\Lib\\site-packages\\transformers\\generation\\configuration_utils.py:582: UserWarning: `num_beams` is set to 1. However, `length_penalty` is set to `2.0` -- this flag is only used in beam-based generation modes. You should set `num_beams>1` or unset `length_penalty`.\n",
      "  warnings.warn(\n"
     ]
    }
   ],
   "source": [
    "# make predictions from our model\n",
    "\n",
    "pred = model.predict(list(test['input_text']))"
   ]
  },
  {
   "cell_type": "code",
   "execution_count": 9,
   "metadata": {},
   "outputs": [],
   "source": [
    "import random"
   ]
  },
  {
   "cell_type": "code",
   "execution_count": 10,
   "metadata": {},
   "outputs": [
    {
     "data": {
      "text/plain": [
       "['filmmaker neeraj ghaywan has said that the issue of nepotism has been overblown and has turned pointless now. he added that the issue (of nepotism) has turned pointless now. he added that the issue (of nepotism) has turned pointless now. neeraj added that i agree that we need acknowledge that it exists and there is a certain set of privileges that these actors enjoy.',\n",
       " 'the all india council for technical education (aicte) has asked all the institutions affiliated to it to \"urgencely put in place an online mechanism\" for registering and disposing of grievances. according to a recent aicte directive, the hrd ministry has stressed the need to have a mechanism for online registration as well as disposal of the grievances not only of the students but also the faculty members.',\n",
       " \"just companies have been the source of more than % of the world's greenhouse gas emissions since, according to a new carbon majors report. the carbon majors report aims to improve transparency among fossil fuel producers and help investors understand the emissions associated with their fossil fuel holdings. a fifth of global industrial greenhouse gas emissions are backed by public investment, report said.\",\n",
       " 'virender sehwag was singing songs of kishore kumar during the odi in indore on tuesday. \"he was playing very well with no tension. that day, he was singing some kishore kumar songs. he was not feeling any kind of tension,\" said the team-mate suresh raina. he was also playing a run-stand for the third wicket with sehwag.',\n",
       " \"a four-year-old girl died after she fell in a pot filled with hot tea in east delhi's old seelampur, delhi. the girl was rushed to a nearby hospital where she underwent treatment for two days. the girl was rushed to a nearby hospital where she underwent treatment for two days.\"]"
      ]
     },
     "execution_count": 10,
     "metadata": {},
     "output_type": "execute_result"
    }
   ],
   "source": [
    "\n",
    "\n",
    "random.sample(pred, 5)"
   ]
  },
  {
   "cell_type": "code",
   "execution_count": 12,
   "metadata": {},
   "outputs": [],
   "source": [
    "# using sumeval to calculate ROUGE scores , faster way to calculate ROUGE scores\n",
    "\n",
    "from sumeval.metrics.rouge import RougeCalculator\n",
    "rouge = RougeCalculator(stopwords=True, lang=\"en\")"
   ]
  },
  {
   "cell_type": "code",
   "execution_count": 13,
   "metadata": {},
   "outputs": [],
   "source": [
    "import numpy as np"
   ]
  },
  {
   "cell_type": "code",
   "execution_count": 14,
   "metadata": {},
   "outputs": [],
   "source": [
    "# function to calculate ROUGE scores\n",
    "\n",
    "def rouge_calc(preds, targets):\n",
    "    rouge_1 = [rouge.rouge_n(summary=preds[i],references=targets[i],n=1) for i in range(len(preds))]\n",
    "    rouge_2 = [rouge.rouge_n(summary=preds[i],references=targets[i],n=2) for i in range(len(preds))]\n",
    "    rouge_l = [rouge.rouge_l(summary=preds[i],references=targets[i]) for i in range(len(preds))]\n",
    "\n",
    "    return {\"Rouge_1\": np.array(rouge_1).mean(),\n",
    "            \"Rouge_2\": np.array(rouge_2).mean(),\n",
    "            \"Rouge_L\": np.array(rouge_l).mean()}"
   ]
  },
  {
   "cell_type": "code",
   "execution_count": 15,
   "metadata": {},
   "outputs": [
    {
     "data": {
      "text/plain": [
       "{'Rouge_1': 0.4200905043366553,\n",
       " 'Rouge_2': 0.2237638177289328,\n",
       " 'Rouge_L': 0.3491328918546062}"
      ]
     },
     "execution_count": 15,
     "metadata": {},
     "output_type": "execute_result"
    }
   ],
   "source": [
    "#final ROUGE scores for the model\n",
    "\n",
    "rouge_calc(pred, list(test['target_text']))"
   ]
  }
 ],
 "metadata": {
  "kernelspec": {
   "display_name": "Python 3",
   "language": "python",
   "name": "python3"
  },
  "language_info": {
   "codemirror_mode": {
    "name": "ipython",
    "version": 3
   },
   "file_extension": ".py",
   "mimetype": "text/x-python",
   "name": "python",
   "nbconvert_exporter": "python",
   "pygments_lexer": "ipython3",
   "version": "3.12.2"
  }
 },
 "nbformat": 4,
 "nbformat_minor": 2
}
